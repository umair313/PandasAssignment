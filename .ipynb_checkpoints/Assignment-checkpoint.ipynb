{
 "cells": [
  {
   "cell_type": "markdown",
   "id": "postal-begin",
   "metadata": {},
   "source": [
    "# PART 1: \n",
    "\n",
    "HOW TO CLEAN DATA WITH PYTHON\n",
    "Cleaning US Census Data\n",
    "You just got hired as a Data Analyst at the Census Bureau, which collects census data and creates interesting visualizations and insights from it.\n",
    "\n",
    "The person who had your job before you left you all the data they had for the most recent census. It is in multiple csv files. They didn’t use pandas, they would just look through these csv files manually whenever they wanted to find something. Sometimes they would copy and paste certain numbers into Excel to make charts.\n",
    "\n",
    "The thought of it makes you shiver. This is not scalable or repeatable.\n",
    "\n",
    "\n",
    "Your boss wants you to make some scatterplots and histograms by the end of the day. Can you get this data into pandas and into reasonable shape so that you can make these histograms?"
   ]
  },
  {
   "cell_type": "markdown",
   "id": "packed-rachel",
   "metadata": {},
   "source": [
    "## Inspect the Data!"
   ]
  },
  {
   "cell_type": "markdown",
   "id": "objective-colony",
   "metadata": {},
   "source": [
    "1.\n",
    "The first visualization your boss wants you to make is a scatterplot that shows average income in a state vs proportion of women in that state.\n",
    "\n",
    "Open some of the census csv files in the navigator. How are they named? What kind of information do they hold? Will they help us make this graph?"
   ]
  },
  {
   "cell_type": "markdown",
   "id": "possible-discussion",
   "metadata": {},
   "source": [
    "--Visualized the data it will help us to make graph but before need some cleaning"
   ]
  },
  {
   "cell_type": "markdown",
   "id": "danish-dressing",
   "metadata": {},
   "source": [
    "2.\n",
    "It will be easier to inspect this data once we have it in a DataFrame. You can’t even call .head() on these csvs! How are you supposed to read them?\n",
    "\n",
    "Using glob, loop through the census files available and load them into DataFrames. Then, concatenate all of those DataFrames together into one DataFrame, called something like us_census.\n"
   ]
  },
  {
   "cell_type": "code",
   "execution_count": 2,
   "id": "prerequisite-dakota",
   "metadata": {},
   "outputs": [],
   "source": [
    "import pandas as pd\n",
    "import numpy as np\n",
    "import glob\n",
    "import matplotlib.pyplot as plt"
   ]
  },
  {
   "cell_type": "code",
   "execution_count": 3,
   "id": "saving-correction",
   "metadata": {},
   "outputs": [],
   "source": [
    "\n",
    "us_census = pd.concat([pd.read_csv(f,index_col=0) for f in glob.glob(\"states*.csv\")])"
   ]
  },
  {
   "cell_type": "markdown",
   "id": "polish-accreditation",
   "metadata": {},
   "source": [
    "3.\n",
    "Look at the .columns and the .dtypes of the us_census DataFrame. Are those datatypes going to hinder you as you try to make histograms?"
   ]
  },
  {
   "cell_type": "code",
   "execution_count": 4,
   "id": "spread-queensland",
   "metadata": {},
   "outputs": [
    {
     "data": {
      "text/plain": [
       "Index(['State', 'TotalPop', 'Hispanic', 'White', 'Black', 'Native', 'Asian',\n",
       "       'Pacific', 'Income', 'GenderPop'],\n",
       "      dtype='object')"
      ]
     },
     "execution_count": 4,
     "metadata": {},
     "output_type": "execute_result"
    }
   ],
   "source": [
    "us_census.columns"
   ]
  },
  {
   "cell_type": "code",
   "execution_count": 5,
   "id": "numeric-province",
   "metadata": {},
   "outputs": [
    {
     "data": {
      "text/plain": [
       "State        object\n",
       "TotalPop      int64\n",
       "Hispanic     object\n",
       "White        object\n",
       "Black        object\n",
       "Native       object\n",
       "Asian        object\n",
       "Pacific      object\n",
       "Income       object\n",
       "GenderPop    object\n",
       "dtype: object"
      ]
     },
     "execution_count": 5,
     "metadata": {},
     "output_type": "execute_result"
    }
   ],
   "source": [
    "us_census.dtypes"
   ]
  },
  {
   "cell_type": "markdown",
   "id": "premier-sacrifice",
   "metadata": {},
   "source": [
    "4.\n",
    "Look at the .head() of the DataFrame so that you can understand why some of these dtypes are objects instead of integers or floats."
   ]
  },
  {
   "cell_type": "code",
   "execution_count": 6,
   "id": "color-champagne",
   "metadata": {},
   "outputs": [
    {
     "data": {
      "text/html": [
       "<div>\n",
       "<style scoped>\n",
       "    .dataframe tbody tr th:only-of-type {\n",
       "        vertical-align: middle;\n",
       "    }\n",
       "\n",
       "    .dataframe tbody tr th {\n",
       "        vertical-align: top;\n",
       "    }\n",
       "\n",
       "    .dataframe thead th {\n",
       "        text-align: right;\n",
       "    }\n",
       "</style>\n",
       "<table border=\"1\" class=\"dataframe\">\n",
       "  <thead>\n",
       "    <tr style=\"text-align: right;\">\n",
       "      <th></th>\n",
       "      <th>State</th>\n",
       "      <th>TotalPop</th>\n",
       "      <th>Hispanic</th>\n",
       "      <th>White</th>\n",
       "      <th>Black</th>\n",
       "      <th>Native</th>\n",
       "      <th>Asian</th>\n",
       "      <th>Pacific</th>\n",
       "      <th>Income</th>\n",
       "      <th>GenderPop</th>\n",
       "    </tr>\n",
       "  </thead>\n",
       "  <tbody>\n",
       "    <tr>\n",
       "      <th>0</th>\n",
       "      <td>Alabama</td>\n",
       "      <td>4830620</td>\n",
       "      <td>3.7516156462584975%</td>\n",
       "      <td>61.878656462585%</td>\n",
       "      <td>31.25297619047618%</td>\n",
       "      <td>0.4532312925170065%</td>\n",
       "      <td>1.0502551020408146%</td>\n",
       "      <td>0.03435374149659865%</td>\n",
       "      <td>$43296.35860306644</td>\n",
       "      <td>2341093M_2489527F</td>\n",
       "    </tr>\n",
       "    <tr>\n",
       "      <th>1</th>\n",
       "      <td>Alaska</td>\n",
       "      <td>733375</td>\n",
       "      <td>5.909580838323351%</td>\n",
       "      <td>60.910179640718574%</td>\n",
       "      <td>2.8485029940119775%</td>\n",
       "      <td>16.39101796407186%</td>\n",
       "      <td>5.450299401197604%</td>\n",
       "      <td>1.0586826347305378%</td>\n",
       "      <td>$70354.74390243902</td>\n",
       "      <td>384160M_349215F</td>\n",
       "    </tr>\n",
       "    <tr>\n",
       "      <th>2</th>\n",
       "      <td>Arizona</td>\n",
       "      <td>6641928</td>\n",
       "      <td>29.565921052631502%</td>\n",
       "      <td>57.120000000000026%</td>\n",
       "      <td>3.8509868421052658%</td>\n",
       "      <td>4.35506578947368%</td>\n",
       "      <td>2.876578947368419%</td>\n",
       "      <td>0.16763157894736833%</td>\n",
       "      <td>$54207.82095490716</td>\n",
       "      <td>3299088M_3342840F</td>\n",
       "    </tr>\n",
       "    <tr>\n",
       "      <th>3</th>\n",
       "      <td>Arkansas</td>\n",
       "      <td>2958208</td>\n",
       "      <td>6.215474452554738%</td>\n",
       "      <td>71.13781021897813%</td>\n",
       "      <td>18.968759124087573%</td>\n",
       "      <td>0.5229197080291965%</td>\n",
       "      <td>1.1423357664233578%</td>\n",
       "      <td>0.14686131386861315%</td>\n",
       "      <td>$41935.63396778917</td>\n",
       "      <td>1451913M_1506295F</td>\n",
       "    </tr>\n",
       "    <tr>\n",
       "      <th>4</th>\n",
       "      <td>California</td>\n",
       "      <td>38421464</td>\n",
       "      <td>37.291874687968054%</td>\n",
       "      <td>40.21578881677474%</td>\n",
       "      <td>5.677396405391911%</td>\n",
       "      <td>0.40529206190713685%</td>\n",
       "      <td>13.052234148776776%</td>\n",
       "      <td>0.35141038442336353%</td>\n",
       "      <td>$67264.78230266465</td>\n",
       "      <td>19087135M_19334329F</td>\n",
       "    </tr>\n",
       "  </tbody>\n",
       "</table>\n",
       "</div>"
      ],
      "text/plain": [
       "        State  TotalPop             Hispanic                White  \\\n",
       "0     Alabama   4830620  3.7516156462584975%     61.878656462585%   \n",
       "1      Alaska    733375   5.909580838323351%  60.910179640718574%   \n",
       "2     Arizona   6641928  29.565921052631502%  57.120000000000026%   \n",
       "3    Arkansas   2958208   6.215474452554738%   71.13781021897813%   \n",
       "4  California  38421464  37.291874687968054%   40.21578881677474%   \n",
       "\n",
       "                 Black                Native                Asian  \\\n",
       "0   31.25297619047618%   0.4532312925170065%  1.0502551020408146%   \n",
       "1  2.8485029940119775%    16.39101796407186%   5.450299401197604%   \n",
       "2  3.8509868421052658%     4.35506578947368%   2.876578947368419%   \n",
       "3  18.968759124087573%   0.5229197080291965%  1.1423357664233578%   \n",
       "4   5.677396405391911%  0.40529206190713685%  13.052234148776776%   \n",
       "\n",
       "                Pacific              Income            GenderPop  \n",
       "0  0.03435374149659865%  $43296.35860306644    2341093M_2489527F  \n",
       "1   1.0586826347305378%  $70354.74390243902      384160M_349215F  \n",
       "2  0.16763157894736833%  $54207.82095490716    3299088M_3342840F  \n",
       "3  0.14686131386861315%  $41935.63396778917    1451913M_1506295F  \n",
       "4  0.35141038442336353%  $67264.78230266465  19087135M_19334329F  "
      ]
     },
     "execution_count": 6,
     "metadata": {},
     "output_type": "execute_result"
    }
   ],
   "source": [
    "us_census.head()"
   ]
  },
  {
   "cell_type": "markdown",
   "id": "fabulous-lawsuit",
   "metadata": {},
   "source": [
    "Start to make a plan for how to convert these columns into the right types for manipulation.\n",
    "\n",
    "Regex to the Rescue"
   ]
  },
  {
   "cell_type": "markdown",
   "id": "proof-folks",
   "metadata": {},
   "source": [
    "5.\n",
    "Use regex to turn the Income column into a format that is ready for conversion into a numerical type."
   ]
  },
  {
   "cell_type": "code",
   "execution_count": 7,
   "id": "appointed-obligation",
   "metadata": {},
   "outputs": [],
   "source": [
    "us_census[\"Income\"]=us_census[\"Income\"].replace({\"\\$\":''}, regex=True).apply(pd.to_numeric)"
   ]
  },
  {
   "cell_type": "markdown",
   "id": "equipped-village",
   "metadata": {},
   "source": [
    "6.\n",
    "Look at the GenderPop column. We are going to want to separate this into two columns, the Men column, and the Women column.\n",
    "<br>split the column into those two new columns using str.split and separating out those results."
   ]
  },
  {
   "cell_type": "code",
   "execution_count": 8,
   "id": "adjacent-final",
   "metadata": {},
   "outputs": [],
   "source": [
    "us_census[[\"male_pop\",\"female_pop\"]] = us_census[\"GenderPop\"].str.split(\"_\",expand=True)"
   ]
  },
  {
   "cell_type": "markdown",
   "id": "mysterious-airport",
   "metadata": {},
   "source": [
    "7.\n",
    "Convert both of the columns into numerical datatypes.\n",
    "\n",
    "There is still an M or an F character in each entry! We should remove those before we convert.\n",
    "\n"
   ]
  },
  {
   "cell_type": "code",
   "execution_count": 9,
   "id": "worth-oklahoma",
   "metadata": {},
   "outputs": [],
   "source": [
    "us_census = us_census.replace({\n",
    "                        \"male_pop\":{\"M\":\"\"},\n",
    "                        \"female_pop\":{\"F\":\"\"}\n",
    "                        },regex=True)"
   ]
  },
  {
   "cell_type": "code",
   "execution_count": 10,
   "id": "pleased-windsor",
   "metadata": {},
   "outputs": [],
   "source": [
    "us_census[\"male_pop\"]=us_census[\"male_pop\"].apply(pd.to_numeric)\n",
    "us_census[\"female_pop\"]=us_census[\"female_pop\"].apply(pd.to_numeric)\n"
   ]
  },
  {
   "cell_type": "markdown",
   "id": "hollywood-coordinate",
   "metadata": {},
   "source": [
    "8.\n",
    "Now you should have the columns you need to make the graph and make sure your boss does not slam a ruler angrily on your desk because you’ve wasted your whole day cleaning your data with no results to show!\n",
    "\n",
    "Use matplotlib to make a scatterplot!\n",
    "\n",
    "plt.scatter(the_women_column, the_income_column) \n",
    "Remember to call plt.show() to see the graph!"
   ]
  },
  {
   "cell_type": "code",
   "execution_count": 11,
   "id": "honest-printing",
   "metadata": {},
   "outputs": [
    {
     "data": {
      "image/png": "[encoded data removed]",
      "text/plain": [
       "<Figure size 432x288 with 1 Axes>"
      ]
     },
     "metadata": {
      "needs_background": "light"
     },
     "output_type": "display_data"
    }
   ],
   "source": [
    "plt.scatter(us_census[\"female_pop\"],us_census[\"Income\"],color=\"red\")\n",
    "plt.xlabel(\"female_pop\")\n",
    "plt.ylabel(\"Income\")\n",
    "plt.show()"
   ]
  },
  {
   "cell_type": "markdown",
   "id": "expanded-jewel",
   "metadata": {},
   "source": [
    "9.\n",
    "Did you get an error? These monstrous csv files probably have nan values in them! Print out your column with the number of women per state to see.\n",
    "\n",
    "We can fill in those nans by using pandas’ .fillna() function.\n",
    "\n",
    "You have the TotalPop per state, and you have the Men per state. As an estimate for the nan values in the Women column, you could use the TotalPop of that state minus the Men for that state.\n",
    "\n",
    "Print out the Women column after filling the nan values to see if it worked!"
   ]
  },
  {
   "cell_type": "code",
   "execution_count": 12,
   "id": "brazilian-listing",
   "metadata": {},
   "outputs": [
    {
     "data": {
      "text/plain": [
       "3"
      ]
     },
     "execution_count": 12,
     "metadata": {},
     "output_type": "execute_result"
    }
   ],
   "source": [
    "us_census[\"female_pop\"].isnull().sum()\n"
   ]
  },
  {
   "cell_type": "code",
   "execution_count": 13,
   "id": "smart-athens",
   "metadata": {},
   "outputs": [],
   "source": [
    "est_fem_pop = us_census.TotalPop - us_census.male_pop"
   ]
  },
  {
   "cell_type": "code",
   "execution_count": 14,
   "id": "generic-laser",
   "metadata": {},
   "outputs": [],
   "source": [
    "us_census[\"female_pop\"].fillna(est_fem_pop,inplace=True)\n"
   ]
  },
  {
   "cell_type": "code",
   "execution_count": 15,
   "id": "bridal-georgia",
   "metadata": {},
   "outputs": [
    {
     "data": {
      "text/plain": [
       "0"
      ]
     },
     "execution_count": 15,
     "metadata": {},
     "output_type": "execute_result"
    }
   ],
   "source": [
    "us_census[\"female_pop\"].isnull().sum()"
   ]
  },
  {
   "cell_type": "code",
   "execution_count": 16,
   "id": "dated-editor",
   "metadata": {},
   "outputs": [
    {
     "data": {
      "text/plain": [
       "0     2489527.0\n",
       "1      349215.0\n",
       "2     3342840.0\n",
       "3     1506295.0\n",
       "4    19334329.0\n",
       "5     2630239.0\n",
       "0     2630239.0\n",
       "1     1841615.0\n",
       "2      478041.0\n",
       "3      340810.0\n",
       "4    10045763.0\n",
       "5     5123362.0\n",
       "0     5123362.0\n",
       "1      696428.0\n",
       "2      806083.0\n",
       "3     6556862.0\n",
       "4     3333382.0\n",
       "5     1558931.0\n",
       "0     1558931.0\n",
       "1     1453125.0\n",
       "2     2233145.0\n",
       "3     2364097.0\n",
       "4      679019.0\n",
       "5     3057895.0\n",
       "0     3057895.0\n",
       "1     3455936.0\n",
       "2     5038598.0\n",
       "3     2727005.0\n",
       "4     1536358.0\n",
       "5     3081445.0\n",
       "0     3081445.0\n",
       "1      504536.0\n",
       "2      939759.0\n",
       "3     1390901.0\n",
       "4      670717.0\n",
       "5     4561386.0\n",
       "0     4561386.0\n",
       "1     1051703.0\n",
       "2    10131373.0\n",
       "3     5049925.0\n",
       "4      353677.0\n",
       "5     5913084.0\n",
       "0     5913084.0\n",
       "1     1942789.0\n",
       "2     1990780.0\n",
       "3     6534215.0\n",
       "4     1869213.0\n",
       "5      543273.0\n",
       "0      543273.0\n",
       "1     2455167.0\n",
       "2      419713.0\n",
       "3     3331859.0\n",
       "4    13367298.0\n",
       "5     1444150.0\n",
       "0     1444150.0\n",
       "1      318031.0\n",
       "2     4195682.0\n",
       "3     3497739.0\n",
       "4      937789.0\n",
       "5     2890732.0\n",
       "Name: female_pop, dtype: float64"
      ]
     },
     "execution_count": 16,
     "metadata": {},
     "output_type": "execute_result"
    }
   ],
   "source": [
    "us_census.female_pop"
   ]
  },
  {
   "cell_type": "markdown",
   "id": "concerned-partner",
   "metadata": {},
   "source": [
    "10.\n",
    "We forgot to check for duplicates! Use .duplicated() on your census DataFrame to see if we have duplicate rows in there."
   ]
  },
  {
   "cell_type": "code",
   "execution_count": 17,
   "id": "coated-hours",
   "metadata": {},
   "outputs": [
    {
     "data": {
      "text/plain": [
       "0    False\n",
       "1    False\n",
       "2    False\n",
       "3    False\n",
       "4    False\n",
       "5    False\n",
       "0     True\n",
       "1    False\n",
       "2    False\n",
       "3    False\n",
       "4    False\n",
       "5    False\n",
       "0     True\n",
       "1    False\n",
       "2    False\n",
       "3    False\n",
       "4    False\n",
       "5    False\n",
       "0     True\n",
       "1    False\n",
       "2    False\n",
       "3    False\n",
       "4    False\n",
       "5    False\n",
       "0     True\n",
       "1    False\n",
       "2    False\n",
       "3    False\n",
       "4    False\n",
       "5    False\n",
       "0     True\n",
       "1    False\n",
       "2    False\n",
       "3    False\n",
       "4    False\n",
       "5    False\n",
       "0     True\n",
       "1    False\n",
       "2    False\n",
       "3    False\n",
       "4    False\n",
       "5    False\n",
       "0     True\n",
       "1    False\n",
       "2    False\n",
       "3    False\n",
       "4    False\n",
       "5    False\n",
       "0     True\n",
       "1    False\n",
       "2    False\n",
       "3    False\n",
       "4    False\n",
       "5    False\n",
       "0     True\n",
       "1    False\n",
       "2    False\n",
       "3    False\n",
       "4    False\n",
       "5    False\n",
       "dtype: bool"
      ]
     },
     "execution_count": 17,
     "metadata": {},
     "output_type": "execute_result"
    }
   ],
   "source": [
    "us_census.duplicated()"
   ]
  },
  {
   "cell_type": "code",
   "execution_count": 18,
   "id": "nominated-representation",
   "metadata": {},
   "outputs": [],
   "source": [
    "us_census = us_census.drop_duplicates()"
   ]
  },
  {
   "cell_type": "code",
   "execution_count": 19,
   "id": "angry-stroke",
   "metadata": {},
   "outputs": [
    {
     "data": {
      "image/png": "[encoded data removed]",
      "text/plain": [
       "<Figure size 432x288 with 1 Axes>"
      ]
     },
     "metadata": {
      "needs_background": "light"
     },
     "output_type": "display_data"
    }
   ],
   "source": [
    "draw=plt.scatter(us_census[\"female_pop\"],us_census[\"Income\"],color=\"red\")\n",
    "plt.xlabel(\"Female Population\")\n",
    "plt.ylabel(\"Income\")\n",
    "plt.show()"
   ]
  },
  {
   "cell_type": "code",
   "execution_count": 20,
   "id": "social-characterization",
   "metadata": {},
   "outputs": [
    {
     "data": {
      "text/plain": [
       "Index(['State', 'TotalPop', 'Hispanic', 'White', 'Black', 'Native', 'Asian',\n",
       "       'Pacific', 'Income', 'GenderPop', 'male_pop', 'female_pop'],\n",
       "      dtype='object')"
      ]
     },
     "execution_count": 20,
     "metadata": {},
     "output_type": "execute_result"
    }
   ],
   "source": [
    "us_census.columns"
   ]
  },
  {
   "cell_type": "code",
   "execution_count": 21,
   "id": "reliable-eleven",
   "metadata": {},
   "outputs": [
    {
     "name": "stdout",
     "output_type": "stream",
     "text": [
      "White       0\n",
      "Hispanic    0\n",
      "Black       0\n",
      "Native      0\n",
      "Asian       0\n",
      "Pacific     4\n",
      "dtype: int64\n"
     ]
    }
   ],
   "source": [
    "print(us_census[[\"White\",\"Hispanic\",\"Black\",\"Native\",\"Asian\",\"Pacific\"]].isnull().sum())"
   ]
  },
  {
   "cell_type": "code",
   "execution_count": 22,
   "id": "sunrise-ottawa",
   "metadata": {},
   "outputs": [],
   "source": [
    "us_census = us_census.replace({\n",
    "    \"White\":{\"%\":\"\"},\n",
    "    \"Black\":{\"%\":\"\"},\n",
    "    \"Asian\":{\"%\":\"\"},\n",
    "    \"Native\":{\"%\":\"\"},\n",
    "    \"Hispanic\":{\"%\":\"\"},\n",
    "    \"Pacific\":{\"%\":\"\"}\n",
    "},regex=True)\n"
   ]
  },
  {
   "cell_type": "code",
   "execution_count": 23,
   "id": "revised-profit",
   "metadata": {},
   "outputs": [],
   "source": [
    "us_census[[\"White\",\"Black\",\"Asian\",\"Native\",\"Pacific\",\"Hispanic\"]]=us_census[[\"White\",\"Black\",\"Asian\",\"Native\",\"Pacific\",\"Hispanic\"]].apply(pd.to_numeric)"
   ]
  },
  {
   "cell_type": "code",
   "execution_count": 24,
   "id": "arctic-phone",
   "metadata": {},
   "outputs": [],
   "source": [
    "est_pacific = us_census.Pacific.mean()"
   ]
  },
  {
   "cell_type": "code",
   "execution_count": 25,
   "id": "corresponding-lecture",
   "metadata": {},
   "outputs": [],
   "source": [
    "us_census.Pacific = us_census.Pacific.fillna(est_pacific)\n"
   ]
  },
  {
   "cell_type": "code",
   "execution_count": 26,
   "id": "collect-machinery",
   "metadata": {},
   "outputs": [],
   "source": [
    "white_pop =us_census[\"White\"]\n",
    "black_pop =us_census[\"Black\"]\n",
    "asian_pop =us_census[\"Asian\"]\n",
    "pacific_pop =us_census[\"Pacific\"]\n",
    "hispanic_pop =us_census[\"Hispanic\"]\n",
    "native_pop =us_census[\"Native\"]"
   ]
  },
  {
   "cell_type": "code",
   "execution_count": 27,
   "id": "bacterial-slovak",
   "metadata": {},
   "outputs": [],
   "source": [
    "mybins = [x for x in range(0,110,10)]\n"
   ]
  },
  {
   "cell_type": "code",
   "execution_count": 28,
   "id": "angry-granny",
   "metadata": {},
   "outputs": [
    {
     "data": {
      "image/png": "[encoded data removed]",
      "text/plain": [
       "<Figure size 432x288 with 1 Axes>"
      ]
     },
     "metadata": {
      "needs_background": "light"
     },
     "output_type": "display_data"
    }
   ],
   "source": [
    "plt.hist([white_pop,black_pop,asian_pop,pacific_pop,hispanic_pop,native_pop],bins=mybins,\n",
    "        color=[\"RED\",\"BLUE\",\"Yellow\",\"Purple\",\"Orange\",\"Black\"],\n",
    "         label=[\"White\",\"Black\",\"Asian\",\"Pacific\",\"Hispanic\",\"Native\"],\n",
    "         edgecolor=\"green\"\n",
    "        )\n",
    "plt.title = \"Distributition by Race\"\n",
    "\n",
    "plt.xlabel(\"Race\")\n",
    "plt.ylabel(\"Papulation\")\n",
    "plt.show()"
   ]
  },
  {
   "cell_type": "markdown",
   "id": "compliant-cargo",
   "metadata": {},
   "source": [
    "# PART TWO"
   ]
  },
  {
   "cell_type": "code",
   "execution_count": 29,
   "id": "liquid-sauce",
   "metadata": {},
   "outputs": [],
   "source": [
    "inventory_data = pd.read_csv(\"inventory.csv\",index_col=0)"
   ]
  },
  {
   "cell_type": "code",
   "execution_count": 32,
   "id": "portuguese-protest",
   "metadata": {},
   "outputs": [
    {
     "data": {
      "text/html": [
       "<div>\n",
       "<style scoped>\n",
       "    .dataframe tbody tr th:only-of-type {\n",
       "        vertical-align: middle;\n",
       "    }\n",
       "\n",
       "    .dataframe tbody tr th {\n",
       "        vertical-align: top;\n",
       "    }\n",
       "\n",
       "    .dataframe thead th {\n",
       "        text-align: right;\n",
       "    }\n",
       "</style>\n",
       "<table border=\"1\" class=\"dataframe\">\n",
       "  <thead>\n",
       "    <tr style=\"text-align: right;\">\n",
       "      <th></th>\n",
       "      <th>product_type</th>\n",
       "      <th>product_description</th>\n",
       "      <th>quantity</th>\n",
       "      <th>price</th>\n",
       "    </tr>\n",
       "    <tr>\n",
       "      <th>location</th>\n",
       "      <th></th>\n",
       "      <th></th>\n",
       "      <th></th>\n",
       "      <th></th>\n",
       "    </tr>\n",
       "  </thead>\n",
       "  <tbody>\n",
       "    <tr>\n",
       "      <th>Staten Island</th>\n",
       "      <td>seeds</td>\n",
       "      <td>daisy</td>\n",
       "      <td>4</td>\n",
       "      <td>6.99</td>\n",
       "    </tr>\n",
       "    <tr>\n",
       "      <th>Staten Island</th>\n",
       "      <td>seeds</td>\n",
       "      <td>calla lily</td>\n",
       "      <td>46</td>\n",
       "      <td>19.99</td>\n",
       "    </tr>\n",
       "    <tr>\n",
       "      <th>Staten Island</th>\n",
       "      <td>seeds</td>\n",
       "      <td>tomato</td>\n",
       "      <td>85</td>\n",
       "      <td>13.99</td>\n",
       "    </tr>\n",
       "    <tr>\n",
       "      <th>Staten Island</th>\n",
       "      <td>garden tools</td>\n",
       "      <td>rake</td>\n",
       "      <td>4</td>\n",
       "      <td>13.99</td>\n",
       "    </tr>\n",
       "    <tr>\n",
       "      <th>Staten Island</th>\n",
       "      <td>garden tools</td>\n",
       "      <td>wheelbarrow</td>\n",
       "      <td>0</td>\n",
       "      <td>89.99</td>\n",
       "    </tr>\n",
       "    <tr>\n",
       "      <th>Staten Island</th>\n",
       "      <td>garden tools</td>\n",
       "      <td>spade</td>\n",
       "      <td>93</td>\n",
       "      <td>19.99</td>\n",
       "    </tr>\n",
       "    <tr>\n",
       "      <th>Staten Island</th>\n",
       "      <td>pest_control</td>\n",
       "      <td>insect killer</td>\n",
       "      <td>74</td>\n",
       "      <td>12.99</td>\n",
       "    </tr>\n",
       "    <tr>\n",
       "      <th>Staten Island</th>\n",
       "      <td>pest_control</td>\n",
       "      <td>weed killer</td>\n",
       "      <td>8</td>\n",
       "      <td>23.99</td>\n",
       "    </tr>\n",
       "    <tr>\n",
       "      <th>Staten Island</th>\n",
       "      <td>planter</td>\n",
       "      <td>20 inch terracotta planter</td>\n",
       "      <td>0</td>\n",
       "      <td>17.99</td>\n",
       "    </tr>\n",
       "    <tr>\n",
       "      <th>Staten Island</th>\n",
       "      <td>planter</td>\n",
       "      <td>8 inch plastic planter</td>\n",
       "      <td>53</td>\n",
       "      <td>3.99</td>\n",
       "    </tr>\n",
       "  </tbody>\n",
       "</table>\n",
       "</div>"
      ],
      "text/plain": [
       "               product_type         product_description  quantity  price\n",
       "location                                                                \n",
       "Staten Island         seeds                       daisy         4   6.99\n",
       "Staten Island         seeds                  calla lily        46  19.99\n",
       "Staten Island         seeds                      tomato        85  13.99\n",
       "Staten Island  garden tools                        rake         4  13.99\n",
       "Staten Island  garden tools                 wheelbarrow         0  89.99\n",
       "Staten Island  garden tools                       spade        93  19.99\n",
       "Staten Island  pest_control               insect killer        74  12.99\n",
       "Staten Island  pest_control                 weed killer         8  23.99\n",
       "Staten Island       planter  20 inch terracotta planter         0  17.99\n",
       "Staten Island       planter      8 inch plastic planter        53   3.99"
      ]
     },
     "execution_count": 32,
     "metadata": {},
     "output_type": "execute_result"
    }
   ],
   "source": [
    "inventory_data.head(10)"
   ]
  },
  {
   "cell_type": "code",
   "execution_count": 40,
   "id": "hydraulic-village",
   "metadata": {},
   "outputs": [],
   "source": [
    "staten_island = inventory_data.loc[\"Staten Island\"]"
   ]
  },
  {
   "cell_type": "code",
   "execution_count": 41,
   "id": "strange-today",
   "metadata": {},
   "outputs": [],
   "source": [
    "product_request = staten_island.product_description"
   ]
  },
  {
   "cell_type": "code",
   "execution_count": 45,
   "id": "afraid-outreach",
   "metadata": {},
   "outputs": [],
   "source": [
    "brooklyn = inventory_data.loc[\"Brooklyn\"]"
   ]
  },
  {
   "cell_type": "code",
   "execution_count": 46,
   "id": "possible-affiliate",
   "metadata": {},
   "outputs": [],
   "source": [
    "seed_request = brooklyn[brooklyn[\"product_type\"] == \"seeds\"]"
   ]
  },
  {
   "cell_type": "code",
   "execution_count": null,
   "id": "organic-second",
   "metadata": {},
   "outputs": [],
   "source": []
  }
 ],
 "metadata": {
  "kernelspec": {
   "display_name": "Python 3",
   "language": "python",
   "name": "python3"
  },
  "language_info": {
   "codemirror_mode": {
    "name": "ipython",
    "version": 3
   },
   "file_extension": ".py",
   "mimetype": "text/x-python",
   "name": "python",
   "nbconvert_exporter": "python",
   "pygments_lexer": "ipython3",
   "version": "3.9.1"
  }
 },
 "nbformat": 4,
 "nbformat_minor": 5
}
